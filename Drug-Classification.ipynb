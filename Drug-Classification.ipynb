{
 "cells": [
  {
   "cell_type": "code",
   "execution_count": 32,
   "id": "1fd2db72-36f7-4ce4-94a8-31d6ab975acc",
   "metadata": {},
   "outputs": [
    {
     "ename": "ModuleNotFoundError",
     "evalue": "No module named 'imblearn'",
     "output_type": "error",
     "traceback": [
      "\u001b[1;31m---------------------------------------------------------------------------\u001b[0m",
      "\u001b[1;31mModuleNotFoundError\u001b[0m                       Traceback (most recent call last)",
      "\u001b[1;32m~\\AppData\\Local\\Temp/ipykernel_12660/2818120582.py\u001b[0m in \u001b[0;36m<module>\u001b[1;34m\u001b[0m\n\u001b[0;32m      3\u001b[0m \u001b[1;32mfrom\u001b[0m \u001b[0msklearn\u001b[0m\u001b[1;33m.\u001b[0m\u001b[0mpreprocessing\u001b[0m \u001b[1;32mimport\u001b[0m \u001b[0mLabelEncoder\u001b[0m\u001b[1;33m\u001b[0m\u001b[1;33m\u001b[0m\u001b[0m\n\u001b[0;32m      4\u001b[0m \u001b[1;32mfrom\u001b[0m \u001b[0msklearn\u001b[0m\u001b[1;33m.\u001b[0m\u001b[0mmodel_selection\u001b[0m \u001b[1;32mimport\u001b[0m \u001b[0mtrain_test_split\u001b[0m\u001b[1;33m\u001b[0m\u001b[1;33m\u001b[0m\u001b[0m\n\u001b[1;32m----> 5\u001b[1;33m \u001b[1;32mfrom\u001b[0m \u001b[0mimblearn\u001b[0m\u001b[1;33m.\u001b[0m\u001b[0mover_sampling\u001b[0m \u001b[1;32mimport\u001b[0m \u001b[0mSMOTE\u001b[0m\u001b[1;33m\u001b[0m\u001b[1;33m\u001b[0m\u001b[0m\n\u001b[0m\u001b[0;32m      6\u001b[0m \u001b[1;32mfrom\u001b[0m \u001b[0msklearn\u001b[0m \u001b[1;32mimport\u001b[0m \u001b[0mlinear_model\u001b[0m\u001b[1;33m,\u001b[0m \u001b[0mnaive_bayes\u001b[0m\u001b[1;33m,\u001b[0m \u001b[0mneighbors\u001b[0m\u001b[1;33m,\u001b[0m \u001b[0msvm\u001b[0m\u001b[1;33m\u001b[0m\u001b[1;33m\u001b[0m\u001b[0m\n",
      "\u001b[1;31mModuleNotFoundError\u001b[0m: No module named 'imblearn'"
     ]
    }
   ],
   "source": [
    "import pandas as pd \n",
    "import seaborn as sns\n",
    "from sklearn.preprocessing import LabelEncoder\n",
    "from sklearn.model_selection import train_test_split\n",
    "from imblearn.over_sampling import SMOTE\n",
    "from sklearn import linear_model, naive_bayes, neighbors, svm"
   ]
  },
  {
   "cell_type": "code",
   "execution_count": 6,
   "id": "ba453e0b-0c64-4f45-8153-70042484bbee",
   "metadata": {},
   "outputs": [
    {
     "data": {
      "text/html": [
       "<div>\n",
       "<style scoped>\n",
       "    .dataframe tbody tr th:only-of-type {\n",
       "        vertical-align: middle;\n",
       "    }\n",
       "\n",
       "    .dataframe tbody tr th {\n",
       "        vertical-align: top;\n",
       "    }\n",
       "\n",
       "    .dataframe thead th {\n",
       "        text-align: right;\n",
       "    }\n",
       "</style>\n",
       "<table border=\"1\" class=\"dataframe\">\n",
       "  <thead>\n",
       "    <tr style=\"text-align: right;\">\n",
       "      <th></th>\n",
       "      <th>Age</th>\n",
       "      <th>Sex</th>\n",
       "      <th>BP</th>\n",
       "      <th>Cholesterol</th>\n",
       "      <th>Na_to_K</th>\n",
       "      <th>Drug</th>\n",
       "    </tr>\n",
       "  </thead>\n",
       "  <tbody>\n",
       "    <tr>\n",
       "      <th>0</th>\n",
       "      <td>23</td>\n",
       "      <td>F</td>\n",
       "      <td>HIGH</td>\n",
       "      <td>HIGH</td>\n",
       "      <td>25.355</td>\n",
       "      <td>DrugY</td>\n",
       "    </tr>\n",
       "    <tr>\n",
       "      <th>1</th>\n",
       "      <td>47</td>\n",
       "      <td>M</td>\n",
       "      <td>LOW</td>\n",
       "      <td>HIGH</td>\n",
       "      <td>13.093</td>\n",
       "      <td>drugC</td>\n",
       "    </tr>\n",
       "    <tr>\n",
       "      <th>2</th>\n",
       "      <td>47</td>\n",
       "      <td>M</td>\n",
       "      <td>LOW</td>\n",
       "      <td>HIGH</td>\n",
       "      <td>10.114</td>\n",
       "      <td>drugC</td>\n",
       "    </tr>\n",
       "    <tr>\n",
       "      <th>3</th>\n",
       "      <td>28</td>\n",
       "      <td>F</td>\n",
       "      <td>NORMAL</td>\n",
       "      <td>HIGH</td>\n",
       "      <td>7.798</td>\n",
       "      <td>drugX</td>\n",
       "    </tr>\n",
       "    <tr>\n",
       "      <th>4</th>\n",
       "      <td>61</td>\n",
       "      <td>F</td>\n",
       "      <td>LOW</td>\n",
       "      <td>HIGH</td>\n",
       "      <td>18.043</td>\n",
       "      <td>DrugY</td>\n",
       "    </tr>\n",
       "  </tbody>\n",
       "</table>\n",
       "</div>"
      ],
      "text/plain": [
       "   Age Sex      BP Cholesterol  Na_to_K   Drug\n",
       "0   23   F    HIGH        HIGH   25.355  DrugY\n",
       "1   47   M     LOW        HIGH   13.093  drugC\n",
       "2   47   M     LOW        HIGH   10.114  drugC\n",
       "3   28   F  NORMAL        HIGH    7.798  drugX\n",
       "4   61   F     LOW        HIGH   18.043  DrugY"
      ]
     },
     "execution_count": 6,
     "metadata": {},
     "output_type": "execute_result"
    }
   ],
   "source": [
    "drugs = pd.read_csv('drug200.csv')\n",
    "drugs.head()"
   ]
  },
  {
   "cell_type": "code",
   "execution_count": 7,
   "id": "04903988-7b19-4fc7-87c2-0fc637e19a12",
   "metadata": {},
   "outputs": [
    {
     "name": "stderr",
     "output_type": "stream",
     "text": [
      "c:\\users\\sumair\\appdata\\local\\programs\\python\\python38\\lib\\site-packages\\seaborn\\distributions.py:2619: FutureWarning: `distplot` is a deprecated function and will be removed in a future version. Please adapt your code to use either `displot` (a figure-level function with similar flexibility) or `histplot` (an axes-level function for histograms).\n",
      "  warnings.warn(msg, FutureWarning)\n"
     ]
    },
    {
     "data": {
      "text/plain": [
       "<AxesSubplot:xlabel='Age', ylabel='Density'>"
      ]
     },
     "execution_count": 7,
     "metadata": {},
     "output_type": "execute_result"
    },
    {
     "data": {
      "image/png": "[encoded data removed]",
      "text/plain": [
       "<Figure size 432x288 with 1 Axes>"
      ]
     },
     "metadata": {
      "needs_background": "light"
     },
     "output_type": "display_data"
    }
   ],
   "source": [
    "sns.distplot(drugs['Age'])"
   ]
  },
  {
   "cell_type": "code",
   "execution_count": 8,
   "id": "9463a6b1-a3e8-4eda-a41d-5c0c698b1999",
   "metadata": {},
   "outputs": [
    {
     "name": "stderr",
     "output_type": "stream",
     "text": [
      "c:\\users\\sumair\\appdata\\local\\programs\\python\\python38\\lib\\site-packages\\seaborn\\distributions.py:2619: FutureWarning: `distplot` is a deprecated function and will be removed in a future version. Please adapt your code to use either `displot` (a figure-level function with similar flexibility) or `histplot` (an axes-level function for histograms).\n",
      "  warnings.warn(msg, FutureWarning)\n"
     ]
    },
    {
     "data": {
      "text/plain": [
       "<AxesSubplot:xlabel='Na_to_K', ylabel='Density'>"
      ]
     },
     "execution_count": 8,
     "metadata": {},
     "output_type": "execute_result"
    },
    {
     "data": {
      "image/png": "[encoded data removed]",
      "text/plain": [
       "<Figure size 432x288 with 1 Axes>"
      ]
     },
     "metadata": {
      "needs_background": "light"
     },
     "output_type": "display_data"
    }
   ],
   "source": [
    "sns.distplot(drugs['Na_to_K'])"
   ]
  },
  {
   "cell_type": "code",
   "execution_count": 9,
   "id": "9a79d4c9-8fa0-4176-9dce-586cf81de41e",
   "metadata": {},
   "outputs": [
    {
     "data": {
      "text/html": [
       "<div>\n",
       "<style scoped>\n",
       "    .dataframe tbody tr th:only-of-type {\n",
       "        vertical-align: middle;\n",
       "    }\n",
       "\n",
       "    .dataframe tbody tr th {\n",
       "        vertical-align: top;\n",
       "    }\n",
       "\n",
       "    .dataframe thead th {\n",
       "        text-align: right;\n",
       "    }\n",
       "</style>\n",
       "<table border=\"1\" class=\"dataframe\">\n",
       "  <thead>\n",
       "    <tr style=\"text-align: right;\">\n",
       "      <th></th>\n",
       "      <th>Age</th>\n",
       "      <th>Na_to_K</th>\n",
       "    </tr>\n",
       "  </thead>\n",
       "  <tbody>\n",
       "    <tr>\n",
       "      <th>count</th>\n",
       "      <td>200.000000</td>\n",
       "      <td>200.000000</td>\n",
       "    </tr>\n",
       "    <tr>\n",
       "      <th>mean</th>\n",
       "      <td>44.315000</td>\n",
       "      <td>16.084485</td>\n",
       "    </tr>\n",
       "    <tr>\n",
       "      <th>std</th>\n",
       "      <td>16.544315</td>\n",
       "      <td>7.223956</td>\n",
       "    </tr>\n",
       "    <tr>\n",
       "      <th>min</th>\n",
       "      <td>15.000000</td>\n",
       "      <td>6.269000</td>\n",
       "    </tr>\n",
       "    <tr>\n",
       "      <th>25%</th>\n",
       "      <td>31.000000</td>\n",
       "      <td>10.445500</td>\n",
       "    </tr>\n",
       "    <tr>\n",
       "      <th>50%</th>\n",
       "      <td>45.000000</td>\n",
       "      <td>13.936500</td>\n",
       "    </tr>\n",
       "    <tr>\n",
       "      <th>75%</th>\n",
       "      <td>58.000000</td>\n",
       "      <td>19.380000</td>\n",
       "    </tr>\n",
       "    <tr>\n",
       "      <th>max</th>\n",
       "      <td>74.000000</td>\n",
       "      <td>38.247000</td>\n",
       "    </tr>\n",
       "  </tbody>\n",
       "</table>\n",
       "</div>"
      ],
      "text/plain": [
       "              Age     Na_to_K\n",
       "count  200.000000  200.000000\n",
       "mean    44.315000   16.084485\n",
       "std     16.544315    7.223956\n",
       "min     15.000000    6.269000\n",
       "25%     31.000000   10.445500\n",
       "50%     45.000000   13.936500\n",
       "75%     58.000000   19.380000\n",
       "max     74.000000   38.247000"
      ]
     },
     "execution_count": 9,
     "metadata": {},
     "output_type": "execute_result"
    }
   ],
   "source": [
    "drugs.describe()"
   ]
  },
  {
   "cell_type": "code",
   "execution_count": 10,
   "id": "99676515-3711-4591-881d-f0e91af8ca6e",
   "metadata": {},
   "outputs": [],
   "source": [
    "age_groups = []\n",
    "for i in drugs['Age']:\n",
    "    if i <= 30:\n",
    "        age_groups.append('0-30')\n",
    "    if i > 30 and i <= 40:\n",
    "        age_groups.append('30-40')\n",
    "    if i > 40 and i <= 50:\n",
    "        age_groups.append('40-50')\n",
    "    if i > 50 and i <= 60:\n",
    "        age_groups.append('50-60')\n",
    "    if i > 60:\n",
    "        age_groups.append('60+')\n",
    "\n",
    "drugs['AgeGroup'] = age_groups"
   ]
  },
  {
   "cell_type": "code",
   "execution_count": 11,
   "id": "3cd8bc51-97ff-4a72-b3df-2168456090ac",
   "metadata": {},
   "outputs": [],
   "source": [
    "na_to_k_groups = []\n",
    "for i in drugs[\"Na_to_K\"]:\n",
    "    if i <= 10:\n",
    "        na_to_k_groups.append('5-10')\n",
    "    if i > 10 and i <= 15:\n",
    "        na_to_k_groups.append('10-15')\n",
    "    if i > 15 and i <= 20:\n",
    "        na_to_k_groups.append('15-20')\n",
    "    if i > 20 and i <= 25:\n",
    "        na_to_k_groups.append('20-25')\n",
    "    if i > 25 and i <= 30:\n",
    "        na_to_k_groups.append('25-30')\n",
    "    if i > 30:\n",
    "        na_to_k_groups.append('30+')\n",
    "\n",
    "drugs['Na_to_K_groups'] = na_to_k_groups\n"
   ]
  },
  {
   "cell_type": "code",
   "execution_count": 12,
   "id": "f691c55d-d092-45fb-baea-373908c5caa9",
   "metadata": {},
   "outputs": [
    {
     "data": {
      "text/html": [
       "<div>\n",
       "<style scoped>\n",
       "    .dataframe tbody tr th:only-of-type {\n",
       "        vertical-align: middle;\n",
       "    }\n",
       "\n",
       "    .dataframe tbody tr th {\n",
       "        vertical-align: top;\n",
       "    }\n",
       "\n",
       "    .dataframe thead th {\n",
       "        text-align: right;\n",
       "    }\n",
       "</style>\n",
       "<table border=\"1\" class=\"dataframe\">\n",
       "  <thead>\n",
       "    <tr style=\"text-align: right;\">\n",
       "      <th></th>\n",
       "      <th>AgeGroup</th>\n",
       "      <th>Sex</th>\n",
       "      <th>BP</th>\n",
       "      <th>Cholesterol</th>\n",
       "      <th>Na_to_K_groups</th>\n",
       "      <th>Drug</th>\n",
       "    </tr>\n",
       "  </thead>\n",
       "  <tbody>\n",
       "    <tr>\n",
       "      <th>0</th>\n",
       "      <td>0-30</td>\n",
       "      <td>F</td>\n",
       "      <td>HIGH</td>\n",
       "      <td>HIGH</td>\n",
       "      <td>25-30</td>\n",
       "      <td>DrugY</td>\n",
       "    </tr>\n",
       "    <tr>\n",
       "      <th>1</th>\n",
       "      <td>40-50</td>\n",
       "      <td>M</td>\n",
       "      <td>LOW</td>\n",
       "      <td>HIGH</td>\n",
       "      <td>10-15</td>\n",
       "      <td>drugC</td>\n",
       "    </tr>\n",
       "    <tr>\n",
       "      <th>2</th>\n",
       "      <td>40-50</td>\n",
       "      <td>M</td>\n",
       "      <td>LOW</td>\n",
       "      <td>HIGH</td>\n",
       "      <td>10-15</td>\n",
       "      <td>drugC</td>\n",
       "    </tr>\n",
       "    <tr>\n",
       "      <th>3</th>\n",
       "      <td>0-30</td>\n",
       "      <td>F</td>\n",
       "      <td>NORMAL</td>\n",
       "      <td>HIGH</td>\n",
       "      <td>5-10</td>\n",
       "      <td>drugX</td>\n",
       "    </tr>\n",
       "    <tr>\n",
       "      <th>4</th>\n",
       "      <td>60+</td>\n",
       "      <td>F</td>\n",
       "      <td>LOW</td>\n",
       "      <td>HIGH</td>\n",
       "      <td>15-20</td>\n",
       "      <td>DrugY</td>\n",
       "    </tr>\n",
       "  </tbody>\n",
       "</table>\n",
       "</div>"
      ],
      "text/plain": [
       "  AgeGroup Sex      BP Cholesterol Na_to_K_groups   Drug\n",
       "0     0-30   F    HIGH        HIGH          25-30  DrugY\n",
       "1    40-50   M     LOW        HIGH          10-15  drugC\n",
       "2    40-50   M     LOW        HIGH          10-15  drugC\n",
       "3     0-30   F  NORMAL        HIGH           5-10  drugX\n",
       "4      60+   F     LOW        HIGH          15-20  DrugY"
      ]
     },
     "execution_count": 12,
     "metadata": {},
     "output_type": "execute_result"
    }
   ],
   "source": [
    "drugs = drugs[['AgeGroup','Sex','BP','Cholesterol','Na_to_K_groups','Drug']]\n",
    "drugs.head()"
   ]
  },
  {
   "cell_type": "code",
   "execution_count": 13,
   "id": "3ba4b6b0-fdaf-4824-bb16-ef1712011121",
   "metadata": {},
   "outputs": [
    {
     "data": {
      "text/plain": [
       "<AxesSubplot:xlabel='AgeGroup', ylabel='count'>"
      ]
     },
     "execution_count": 13,
     "metadata": {},
     "output_type": "execute_result"
    },
    {
     "data": {
      "image/png": "[encoded data removed]",
      "text/plain": [
       "<Figure size 432x288 with 1 Axes>"
      ]
     },
     "metadata": {},
     "output_type": "display_data"
    }
   ],
   "source": [
    "sns.set_theme(style=\"whitegrid\")\n",
    "sns.countplot(x=\"AgeGroup\", data=drugs, palette='Spectral', order=['0-30', '30-40', '40-50', '50-60', '60+'])"
   ]
  },
  {
   "cell_type": "code",
   "execution_count": 14,
   "id": "bd5efe73-2fcd-43c6-b093-ea9f08dbcab3",
   "metadata": {},
   "outputs": [
    {
     "data": {
      "text/plain": [
       "<AxesSubplot:xlabel='Sex', ylabel='count'>"
      ]
     },
     "execution_count": 14,
     "metadata": {},
     "output_type": "execute_result"
    },
    {
     "data": {
      "image/png": "[encoded data removed]",
      "text/plain": [
       "<Figure size 432x288 with 1 Axes>"
      ]
     },
     "metadata": {},
     "output_type": "display_data"
    }
   ],
   "source": [
    "sns.countplot(x='Sex', data = drugs, palette='Spectral')"
   ]
  },
  {
   "cell_type": "code",
   "execution_count": 15,
   "id": "819c2b56-da31-43b7-8dca-34f244edbf70",
   "metadata": {},
   "outputs": [
    {
     "data": {
      "text/plain": [
       "<AxesSubplot:xlabel='BP', ylabel='count'>"
      ]
     },
     "execution_count": 15,
     "metadata": {},
     "output_type": "execute_result"
    },
    {
     "data": {
      "image/png": "[encoded data removed]",
      "text/plain": [
       "<Figure size 432x288 with 1 Axes>"
      ]
     },
     "metadata": {},
     "output_type": "display_data"
    }
   ],
   "source": [
    "sns.countplot(x=\"BP\", data=drugs, palette='Spectral')"
   ]
  },
  {
   "cell_type": "code",
   "execution_count": 16,
   "id": "0c6b0ea2-ea5c-4766-8de7-74a8436cedf8",
   "metadata": {},
   "outputs": [
    {
     "data": {
      "text/plain": [
       "<AxesSubplot:xlabel='Cholesterol', ylabel='count'>"
      ]
     },
     "execution_count": 16,
     "metadata": {},
     "output_type": "execute_result"
    },
    {
     "data": {
      "image/png": "[encoded data removed]",
      "text/plain": [
       "<Figure size 432x288 with 1 Axes>"
      ]
     },
     "metadata": {},
     "output_type": "display_data"
    }
   ],
   "source": [
    "sns.countplot(x=\"Cholesterol\", data=drugs, palette='Spectral')"
   ]
  },
  {
   "cell_type": "code",
   "execution_count": 17,
   "id": "5c60c663-6e7f-407c-b1a0-c92495ae8460",
   "metadata": {},
   "outputs": [
    {
     "data": {
      "text/plain": [
       "<AxesSubplot:xlabel='Na_to_K_groups', ylabel='count'>"
      ]
     },
     "execution_count": 17,
     "metadata": {},
     "output_type": "execute_result"
    },
    {
     "data": {
      "image/png": "[encoded data removed]",
      "text/plain": [
       "<Figure size 432x288 with 1 Axes>"
      ]
     },
     "metadata": {},
     "output_type": "display_data"
    }
   ],
   "source": [
    "sns.countplot(x='Na_to_K_groups', data=drugs, palette='Spectral', order = ['5-10','10-15','15-20','20-25','30+'])"
   ]
  },
  {
   "cell_type": "code",
   "execution_count": 18,
   "id": "0dfa7c4e-6afb-4b8d-a484-0780be275087",
   "metadata": {},
   "outputs": [
    {
     "data": {
      "text/plain": [
       "<AxesSubplot:xlabel='Drug', ylabel='count'>"
      ]
     },
     "execution_count": 18,
     "metadata": {},
     "output_type": "execute_result"
    },
    {
     "data": {
      "image/png": "[encoded data removed]",
      "text/plain": [
       "<Figure size 432x288 with 1 Axes>"
      ]
     },
     "metadata": {},
     "output_type": "display_data"
    }
   ],
   "source": [
    "sns.countplot(x=\"Drug\", data=drugs, palette='Spectral')"
   ]
  },
  {
   "cell_type": "code",
   "execution_count": 19,
   "id": "3affe0d4-9d7b-41f4-8fa0-f4e20acab237",
   "metadata": {},
   "outputs": [],
   "source": [
    "x, y = drugs.values[:, :-1], drugs.values[:, -1]"
   ]
  },
  {
   "cell_type": "code",
   "execution_count": 23,
   "id": "7e2b0b5a-a51b-4924-be90-b2a986793ea0",
   "metadata": {},
   "outputs": [],
   "source": [
    "x_train, x_test, y_train, y_test = train_test_split(x,y, test_size=0.33)"
   ]
  },
  {
   "cell_type": "code",
   "execution_count": 24,
   "id": "0d58a0da-f648-453f-b95f-16b9f452b122",
   "metadata": {},
   "outputs": [],
   "source": [
    "x_train = pd.get_dummies(pd.DataFrame(x_train))\n",
    "x_test = pd.get_dummies(pd.DataFrame(x_test))"
   ]
  },
  {
   "cell_type": "code",
   "execution_count": null,
   "id": "2a5615f9-b4c9-484f-b37a-5efd7d81f33f",
   "metadata": {},
   "outputs": [],
   "source": [
    "x_train, y_train = SMOTE().fit_resample(x_train, y_train)"
   ]
  },
  {
   "cell_type": "code",
   "execution_count": 25,
   "id": "90ac11d3-d8e9-4d70-b894-4b5864405ac1",
   "metadata": {},
   "outputs": [
    {
     "data": {
      "text/plain": [
       "[Text(0.5, 0, 'Drug')]"
      ]
     },
     "execution_count": 25,
     "metadata": {},
     "output_type": "execute_result"
    },
    {
     "data": {
      "image/png": "[encoded data removed]",
      "text/plain": [
       "<Figure size 432x288 with 1 Axes>"
      ]
     },
     "metadata": {},
     "output_type": "display_data"
    }
   ],
   "source": [
    "ax = sns.countplot(x=y_train, data=drugs, palette='Spectral')\n",
    "ax.set(xlabel='Drug')"
   ]
  },
  {
   "cell_type": "code",
   "execution_count": 26,
   "id": "ee56b1dd-aa30-40d8-bc83-0dacf9379097",
   "metadata": {},
   "outputs": [
    {
     "name": "stdout",
     "output_type": "stream",
     "text": [
      "Logistic Regression Predictions: \n",
      " ['drugX' 'drugB' 'drugA' 'drugX' 'drugA' 'DrugY' 'drugX' 'drugC' 'DrugY'\n",
      " 'DrugY' 'drugA' 'drugB' 'DrugY' 'drugB' 'DrugY' 'drugX' 'DrugY' 'drugX'\n",
      " 'drugX' 'DrugY' 'DrugY' 'DrugY' 'DrugY' 'DrugY' 'DrugY' 'drugA' 'drugX'\n",
      " 'drugC' 'DrugY' 'drugC' 'DrugY' 'drugX' 'drugA' 'drugX' 'drugA' 'drugC'\n",
      " 'drugA' 'drugA' 'drugB' 'drugX' 'drugB' 'drugX' 'drugA' 'DrugY' 'DrugY'\n",
      " 'drugX' 'drugB' 'drugX' 'DrugY' 'drugB' 'DrugY' 'drugX' 'DrugY' 'drugX'\n",
      " 'DrugY' 'drugB' 'DrugY' 'DrugY' 'drugX' 'DrugY' 'DrugY' 'drugX' 'DrugY'\n",
      " 'drugX' 'drugA' 'drugX'] \n",
      " Accuracy: 98.48484848484848 %\n"
     ]
    }
   ],
   "source": [
    "log_reg = linear_model.LogisticRegression(max_iter = 5000)\n",
    "log_reg.fit(x_train, y_train)\n",
    "log_reg_acc = 100*log_reg.score(x_test, y_test)\n",
    "print('Logistic Regression Predictions: \\n', log_reg.predict(x_test), '\\n Accuracy:', log_reg_acc, '%')"
   ]
  },
  {
   "cell_type": "code",
   "execution_count": 28,
   "id": "5e427622-3bea-4726-8d2f-a2299a0594bf",
   "metadata": {},
   "outputs": [
    {
     "name": "stdout",
     "output_type": "stream",
     "text": [
      "Naive Bayes Predictions: \n",
      " ['drugX' 'drugB' 'drugA' 'drugX' 'drugA' 'DrugY' 'drugX' 'drugC' 'DrugY'\n",
      " 'DrugY' 'drugA' 'drugB' 'DrugY' 'drugB' 'DrugY' 'drugX' 'DrugY' 'drugX'\n",
      " 'drugX' 'DrugY' 'DrugY' 'DrugY' 'DrugY' 'DrugY' 'DrugY' 'drugA' 'drugX'\n",
      " 'drugC' 'DrugY' 'drugC' 'DrugY' 'drugX' 'drugA' 'drugX' 'drugA' 'drugC'\n",
      " 'drugA' 'drugA' 'drugB' 'drugX' 'drugB' 'drugX' 'drugA' 'DrugY' 'DrugY'\n",
      " 'drugX' 'drugB' 'drugX' 'DrugY' 'drugB' 'DrugY' 'drugX' 'DrugY' 'drugX'\n",
      " 'DrugY' 'drugB' 'DrugY' 'DrugY' 'drugX' 'DrugY' 'DrugY' 'drugX' 'DrugY'\n",
      " 'drugX' 'drugA' 'drugX'] \n",
      " Accuracy: 98.48484848484848 %\n"
     ]
    }
   ],
   "source": [
    "nb = naive_bayes.GaussianNB()\n",
    "nb.fit(x_train, y_train)\n",
    "nb_acc = 100*nb.score(x_test, y_test)\n",
    "print('Naive Bayes Predictions: \\n', nb.predict(x_test), '\\n Accuracy:', nb_acc, '%')"
   ]
  },
  {
   "cell_type": "code",
   "execution_count": 29,
   "id": "0aa4cc08-96e0-4e1b-ae84-a8aecde3b33e",
   "metadata": {},
   "outputs": [
    {
     "name": "stdout",
     "output_type": "stream",
     "text": [
      "K-Nearest Neighbours Predictions: \n",
      " ['drugX' 'DrugY' 'DrugY' 'drugX' 'DrugY' 'DrugY' 'drugX' 'drugC' 'DrugY'\n",
      " 'DrugY' 'drugA' 'drugX' 'DrugY' 'drugA' 'DrugY' 'drugX' 'DrugY' 'drugX'\n",
      " 'DrugY' 'DrugY' 'DrugY' 'DrugY' 'DrugY' 'DrugY' 'DrugY' 'DrugY' 'drugX'\n",
      " 'drugC' 'DrugY' 'drugC' 'DrugY' 'drugX' 'DrugY' 'drugX' 'DrugY' 'DrugY'\n",
      " 'DrugY' 'DrugY' 'drugX' 'drugX' 'DrugY' 'drugX' 'drugA' 'DrugY' 'DrugY'\n",
      " 'drugX' 'drugA' 'drugX' 'DrugY' 'DrugY' 'DrugY' 'drugX' 'DrugY' 'drugX'\n",
      " 'DrugY' 'drugX' 'DrugY' 'DrugY' 'DrugY' 'DrugY' 'DrugY' 'drugX' 'DrugY'\n",
      " 'DrugY' 'drugA' 'drugX'] \n",
      " Accuracy: 69.6969696969697 %\n"
     ]
    }
   ],
   "source": [
    "knn = neighbors.KNeighborsClassifier(n_neighbors=25)\n",
    "knn.fit(x_train, y_train)\n",
    "knn_acc = 100*knn.score(x_test, y_test)\n",
    "print('K-Nearest Neighbours Predictions: \\n', knn.predict(x_test), '\\n Accuracy:', knn_acc, '%')"
   ]
  },
  {
   "cell_type": "code",
   "execution_count": 30,
   "id": "2edd63b6-49b3-4902-9ab3-83d215423a29",
   "metadata": {},
   "outputs": [
    {
     "name": "stdout",
     "output_type": "stream",
     "text": [
      "SVM Predictions: \n",
      " ['drugX' 'drugB' 'drugA' 'drugX' 'drugA' 'DrugY' 'drugX' 'drugC' 'DrugY'\n",
      " 'DrugY' 'drugA' 'drugB' 'DrugY' 'drugB' 'DrugY' 'drugX' 'DrugY' 'drugX'\n",
      " 'drugX' 'DrugY' 'DrugY' 'DrugY' 'DrugY' 'DrugY' 'DrugY' 'drugA' 'drugX'\n",
      " 'drugC' 'DrugY' 'drugC' 'DrugY' 'drugX' 'drugA' 'drugX' 'drugA' 'drugC'\n",
      " 'drugA' 'drugA' 'drugB' 'drugX' 'drugB' 'drugX' 'drugA' 'DrugY' 'DrugY'\n",
      " 'drugC' 'drugB' 'drugX' 'DrugY' 'drugB' 'DrugY' 'drugX' 'DrugY' 'drugX'\n",
      " 'DrugY' 'drugB' 'DrugY' 'DrugY' 'drugX' 'DrugY' 'DrugY' 'drugX' 'DrugY'\n",
      " 'drugX' 'drugA' 'drugX'] \n",
      " Accuracy: 100.0 %\n"
     ]
    }
   ],
   "source": [
    "svm =svm.SVC(kernel='linear')\n",
    "svm.fit(x_train, y_train)\n",
    "svm_acc = 100*svm.score(x_test, y_test)\n",
    "print('SVM Predictions: \\n', svm.predict(x_test), '\\n Accuracy:', svm_acc, '%')"
   ]
  },
  {
   "cell_type": "code",
   "execution_count": 31,
   "id": "fbbfe698-5dab-4afe-a706-ee71a804415c",
   "metadata": {},
   "outputs": [
    {
     "data": {
      "text/html": [
       "<div>\n",
       "<style scoped>\n",
       "    .dataframe tbody tr th:only-of-type {\n",
       "        vertical-align: middle;\n",
       "    }\n",
       "\n",
       "    .dataframe tbody tr th {\n",
       "        vertical-align: top;\n",
       "    }\n",
       "\n",
       "    .dataframe thead th {\n",
       "        text-align: right;\n",
       "    }\n",
       "</style>\n",
       "<table border=\"1\" class=\"dataframe\">\n",
       "  <thead>\n",
       "    <tr style=\"text-align: right;\">\n",
       "      <th></th>\n",
       "      <th>Model</th>\n",
       "      <th>Accuracy %</th>\n",
       "    </tr>\n",
       "  </thead>\n",
       "  <tbody>\n",
       "    <tr>\n",
       "      <th>0</th>\n",
       "      <td>Logistic Regression</td>\n",
       "      <td>98.484848</td>\n",
       "    </tr>\n",
       "    <tr>\n",
       "      <th>1</th>\n",
       "      <td>Gaussian Naive Bayes</td>\n",
       "      <td>98.484848</td>\n",
       "    </tr>\n",
       "    <tr>\n",
       "      <th>2</th>\n",
       "      <td>K_Nearest Neighbours</td>\n",
       "      <td>69.696970</td>\n",
       "    </tr>\n",
       "    <tr>\n",
       "      <th>3</th>\n",
       "      <td>Support Vector Machine(SVM)</td>\n",
       "      <td>100.000000</td>\n",
       "    </tr>\n",
       "  </tbody>\n",
       "</table>\n",
       "</div>"
      ],
      "text/plain": [
       "                         Model  Accuracy %\n",
       "0          Logistic Regression   98.484848\n",
       "1         Gaussian Naive Bayes   98.484848\n",
       "2         K_Nearest Neighbours   69.696970\n",
       "3  Support Vector Machine(SVM)  100.000000"
      ]
     },
     "execution_count": 31,
     "metadata": {},
     "output_type": "execute_result"
    }
   ],
   "source": [
    "pd.DataFrame(data={'Model': ['Logistic Regression','Gaussian Naive Bayes', 'K_Nearest Neighbours', 'Support Vector Machine(SVM)'], 'Accuracy %':[log_reg_acc, nb_acc, knn_acc, svm_acc]})"
   ]
  },
  {
   "cell_type": "code",
   "execution_count": null,
   "id": "fcb9a9a6-890c-4467-8dd1-4ddc4eb80596",
   "metadata": {},
   "outputs": [],
   "source": []
  }
 ],
 "metadata": {
  "kernelspec": {
   "display_name": "Python 3 (ipykernel)",
   "language": "python",
   "name": "python3"
  },
  "language_info": {
   "codemirror_mode": {
    "name": "ipython",
    "version": 3
   },
   "file_extension": ".py",
   "mimetype": "text/x-python",
   "name": "python",
   "nbconvert_exporter": "python",
   "pygments_lexer": "ipython3",
   "version": "3.8.5"
  }
 },
 "nbformat": 4,
 "nbformat_minor": 5
}
